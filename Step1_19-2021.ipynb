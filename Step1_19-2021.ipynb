{
 "cells": [
  {
   "cell_type": "code",
   "execution_count": 1,
   "id": "79d4d564-3e7c-4c75-a9f7-17a8f80ada7b",
   "metadata": {},
   "outputs": [
    {
     "name": "stderr",
     "output_type": "stream",
     "text": [
      "C:\\Users\\skyebensel\\AppData\\Local\\Temp\\ipykernel_5372\\2953368902.py:4: DeprecationWarning: \n",
      "Pyarrow will become a required dependency of pandas in the next major release of pandas (pandas 3.0),\n",
      "(to allow more performant data types, such as the Arrow string type, and better interoperability with other libraries)\n",
      "but was not found to be installed on your system.\n",
      "If this would cause problems for you,\n",
      "please provide us feedback at https://github.com/pandas-dev/pandas/issues/54466\n",
      "        \n",
      "  import pandas as pd\n"
     ]
    }
   ],
   "source": [
    "import matplotlib.pyplot as plt\n",
    "import matplotlib.colors\n",
    "import numpy as np\n",
    "import pandas as pd\n",
    "import csv\n",
    "from datetime import datetime\n",
    "import csv\n",
    "import os\n",
    "from datetime import datetime\n",
    "import re\n",
    "\n",
    "import pyet\n",
    "import matplotlib.pyplot as plt\n",
    "from mpl_toolkits.mplot3d import Axes3D"
   ]
  },
  {
   "cell_type": "markdown",
   "id": "56ca5576-8c84-4b1e-bf6d-1e25e121f87e",
   "metadata": {},
   "source": [
    "### Create seperate df for each year"
   ]
  },
  {
   "cell_type": "code",
   "execution_count": 6,
   "id": "b7e12829-e94f-4408-98ad-a97eaeede33a",
   "metadata": {},
   "outputs": [],
   "source": [
    "#for 2019\n",
    "df=pd.read_csv('LDP_HrlySummary_2019.csv')\n",
    "df['Date'] = pd.to_datetime(df['DateTime'])\n",
    "\n",
    "#for 2020\n",
    "df1=pd.read_csv('LDP_HrlySummary_2020.csv')\n",
    "df1['Date'] = pd.to_datetime(df1['DateTime'])\n",
    "\n",
    "#for2021\n",
    "df2=pd.read_csv('LDP_HrlySummary_2020.csv')\n",
    "df2['Date'] = pd.to_datetime(df2['DateTime'])\n"
   ]
  },
  {
   "cell_type": "markdown",
   "id": "da8b9175-eda7-43a7-b36f-91e69b0aaac9",
   "metadata": {},
   "source": [
    "#### Transform radiations from W/m2"
   ]
  },
  {
   "cell_type": "code",
   "execution_count": 7,
   "id": "34b3da17-4976-40bc-83a4-3fd15785de97",
   "metadata": {},
   "outputs": [],
   "source": [
    "#For 2019\n",
    "df['SolarRadiation_W/m2']=df['SolarRadiation_W/m2']*3600\n",
    "df['NetRadiation_W/m2']=df['NetRadiation_W/m2']*3600\n",
    "\n",
    "#for 2020\n",
    "df1['SolarRadiation_W/m2']=df1['SolarRadiation_W/m2']*3600\n",
    "df1['NetRadiation_W/m2']=df1['NetRadiation_W/m2']*3600\n",
    "\n",
    "#for 2021\n",
    "df2['SolarRadiation_W/m2']=df2['SolarRadiation_W/m2']*3600\n",
    "df2['NetRadiation_W/m2']=df2['NetRadiation_W/m2']*3600"
   ]
  },
  {
   "cell_type": "markdown",
   "id": "5d77d242-bac0-4b56-9919-ed1dd6f44e5f",
   "metadata": {},
   "source": [
    "#### Group by dates and sum from hourly to daily "
   ]
  },
  {
   "cell_type": "code",
   "execution_count": 13,
   "id": "f4f02a8d-9b73-492d-aff9-5bfe468c1ca3",
   "metadata": {},
   "outputs": [],
   "source": [
    "#2019\n",
    "daily_data = df.groupby(df['Date'].dt.strftime('%m/%d/%Y')).agg({\n",
    "    'Precipitation_mm': 'sum',\n",
    "    'AirTemperature_C': ['min', 'max', 'mean'],  # Calculate min, max, and mean for temperature\n",
    "    'SolarRadiation_W/m2': 'sum',\n",
    "    'NetRadiation_W/m2': 'sum',\n",
    "    'RelativeHumidity_percent': ['min', 'max', 'mean'],\n",
    "    'WindDirection_degree': 'mean',\n",
    "    'WindSpeed_m/s': 'mean',\n",
    "    'SnowDepth_cm': 'sum',\n",
    "}).reset_index()\n",
    "\n",
    "daily_data['SolarRadiation_W/m2'] = (daily_data['SolarRadiation_W/m2'])/1000000\n",
    "daily_data['NetRadiation_W/m2'] = (daily_data['NetRadiation_W/m2'])/1000000\n",
    "\n",
    "\n",
    "daily_data.columns = ['Date', 'Precipitation_mm', 'Tmin_C', 'Tmax_C', 'Tmean_C',\n",
    "                       'SolarRadiation_MJ/m2/day', 'NetRadiation_MJ/m2/day', 'RelativeHumidity_min','RelativeHumidity_max','RelativeHumidity_mean',\n",
    "                       'WindDirection_degree', 'WindSpeed_m/s', 'SnowDepth_cm']\n",
    "\n",
    "# Save the transformed data to a new CSV file\n",
    "daily_data.to_csv('LDP_2019.csv', index=False)\n",
    "\n",
    "#2020\n",
    "daily_data1 = df1.groupby(df1['Date'].dt.strftime('%m/%d/%Y')).agg({\n",
    "    'Precipitation_mm': 'sum',\n",
    "    'AirTemperature_C': ['min', 'max', 'mean'],  # Calculate min, max, and mean for temperature\n",
    "    'SolarRadiation_W/m2': 'sum',\n",
    "    'NetRadiation_W/m2': 'sum',\n",
    "    'RelativeHumidity_percent': ['min', 'max', 'mean'],\n",
    "    'WindDirection_degree': 'mean',\n",
    "    'WindSpeed_m/s': 'mean',\n",
    "    'SnowDepth_cm': 'sum',\n",
    "}).reset_index()\n",
    "\n",
    "daily_data1['SolarRadiation_W/m2'] = (daily_data1['SolarRadiation_W/m2'])/1000000\n",
    "daily_data1['NetRadiation_W/m2'] = (daily_data1['NetRadiation_W/m2'])/1000000\n",
    "\n",
    "\n",
    "daily_data1.columns = ['Date', 'Precipitation_mm', 'Tmin_C', 'Tmax_C', 'Tmean_C',\n",
    "                       'SolarRadiation_MJ/m2/day', 'NetRadiation_MJ/m2/day', 'RelativeHumidity_min','RelativeHumidity_max','RelativeHumidity_mean',\n",
    "                       'WindDirection_degree', 'WindSpeed_m/s', 'SnowDepth_cm']\n",
    "\n",
    "# Save the transformed data to a new CSV file\n",
    "daily_data1.to_csv('LDP_2020.csv', index=False)\n",
    "\n",
    "#2021\n",
    "daily_data2 = df2.groupby(df2['Date'].dt.strftime('%m/%d/%Y')).agg({\n",
    "    'Precipitation_mm': 'sum',\n",
    "    'AirTemperature_C': ['min', 'max', 'mean'],  # Calculate min, max, and mean for temperature\n",
    "    'SolarRadiation_W/m2': 'sum',\n",
    "    'NetRadiation_W/m2': 'sum',\n",
    "    'RelativeHumidity_percent': ['min', 'max', 'mean'],\n",
    "    'WindDirection_degree': 'mean',\n",
    "    'WindSpeed_m/s': 'mean',\n",
    "    'SnowDepth_cm': 'sum',\n",
    "}).reset_index()\n",
    "\n",
    "daily_data2['SolarRadiation_W/m2'] = (daily_data2['SolarRadiation_W/m2'])/1000000\n",
    "daily_data2['NetRadiation_W/m2'] = (daily_data2['NetRadiation_W/m2'])/1000000\n",
    "\n",
    "\n",
    "daily_data2.columns = ['Date', 'Precipitation_mm', 'Tmin_C', 'Tmax_C', 'Tmean_C',\n",
    "                       'SolarRadiation_MJ/m2/day', 'NetRadiation_MJ/m2/day', 'RelativeHumidity_min','RelativeHumidity_max','RelativeHumidity_mean',\n",
    "                       'WindDirection_degree', 'WindSpeed_m/s', 'SnowDepth_cm']\n",
    "\n",
    "# Save the transformed data to a new CSV file\n",
    "daily_data2.to_csv('LDP_2021.csv', index=False)"
   ]
  },
  {
   "cell_type": "code",
   "execution_count": null,
   "id": "d18bda89-8396-4f51-a646-63e7e9a6384d",
   "metadata": {},
   "outputs": [],
   "source": []
  }
 ],
 "metadata": {
  "kernelspec": {
   "display_name": "Python 3 (ipykernel)",
   "language": "python",
   "name": "python3"
  },
  "language_info": {
   "codemirror_mode": {
    "name": "ipython",
    "version": 3
   },
   "file_extension": ".py",
   "mimetype": "text/x-python",
   "name": "python",
   "nbconvert_exporter": "python",
   "pygments_lexer": "ipython3",
   "version": "3.9.18"
  }
 },
 "nbformat": 4,
 "nbformat_minor": 5
}
